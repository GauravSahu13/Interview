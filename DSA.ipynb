{
  "nbformat": 4,
  "nbformat_minor": 0,
  "metadata": {
    "colab": {
      "provenance": [],
      "authorship_tag": "ABX9TyOTF7mFwe1T5bS1NTRI0oao",
      "include_colab_link": true
    },
    "kernelspec": {
      "name": "python3",
      "display_name": "Python 3"
    },
    "language_info": {
      "name": "python"
    }
  },
  "cells": [
    {
      "cell_type": "markdown",
      "metadata": {
        "id": "view-in-github",
        "colab_type": "text"
      },
      "source": [
        "<a href=\"https://colab.research.google.com/github/GauravSahu13/Interview/blob/main/DSA.ipynb\" target=\"_parent\"><img src=\"https://colab.research.google.com/assets/colab-badge.svg\" alt=\"Open In Colab\"/></a>"
      ]
    },
    {
      "cell_type": "code",
      "execution_count": null,
      "metadata": {
        "id": "zwrmghsrGV19"
      },
      "outputs": [],
      "source": []
    },
    {
      "cell_type": "markdown",
      "source": [
        "# **DSA**\n",
        "---\n",
        "1.   Array  ----> Searching Frequently (Random access)                \n",
        "2.   Linked list  ----> Inersion / Deletion Frequently\n",
        "3.   Stack    ----> LIFO (Undo ctrl+z)\n",
        "\n",
        "4.   Queue ----> FIFO (Ticket counter)\n",
        "5.   Hashing ---->  Efficient Data Retrieval (Fast Retrieval)\n",
        "\n",
        "6.   Graph ----> Network Representation (ola/uber maps)\n",
        "\n",
        "7.   Tree ----> Hierarchical Data Representation (e-commerce product)\n",
        "8.   Tables ----> Structured Data Storage\n",
        "\n",
        "9.   Sets ----> Unique Elements Storage\n",
        "---\n",
        "\n",
        "# **Algorithms**\n",
        "\n",
        "combination of sequences of finite number of steps to solve any particular problem\n",
        "\n",
        "### Property:\n",
        "1.   Terminate after finite amt of time\n",
        "2.   Produce atleast one output\n",
        "3.   independent of language\n",
        "4.   unambiguous / deterministic code (output should be same)\n",
        "\n",
        "\n",
        "### Steps:\n",
        "1. Problem definition (constraints, parameters, test cases)\n",
        "\n",
        "2. Design algo ( divide & conquer, DP)\n",
        "3. Draw flow chart\n",
        "4. Testing\n",
        "5. Implementation\n",
        "6. Analysis ( space & Time complexity)\n",
        "\n",
        "\n",
        "---\n",
        "\n",
        "\n",
        "\n",
        "\n"
      ],
      "metadata": {
        "id": "CjQL5EU-GYEr"
      }
    },
    {
      "cell_type": "markdown",
      "source": [
        "# **Analysis of Algoritms**\n",
        "\n",
        "### Steps\n",
        "1.   **Apostiary** ---> dependent on hardware & language /  provide  Exact answers / different answers\n",
        "2.   **Apriori** ( we are using this) ---> Independent on hardware & language /  provide  Approaximate answers / similar answers\n",
        "\n",
        "### Asymptotic Notation\n",
        "1.   **Big O** ---> Worst Case\n",
        "*   f(n) = O(g(n))\n",
        "*   f(n) <= c.g(n)\n",
        "*   n >= n0 / c > 0 / n0 > 1\n",
        "\n",
        "2.   **Omega** ---> Best case\n",
        "*   f(n) = omega(g(n))\n",
        "*   f(n) >= c.g(n)\n",
        "*   n >= n0 / c > 0 / n0 > 1\n",
        "\n",
        "3.   **Tetha** --- > average case\n",
        "*   f(n) = Tetha(g(n))\n",
        "*   f(n) <= c1.g(n)\n",
        "*   f(n) >= c2.g(n)\n",
        "*   n >= n0 / c > 0 / n0 > 1\n",
        "\n",
        "\n",
        "**c ==== always constant**\n",
        "\n",
        "\n",
        "### Apriori Analysis\n",
        "\n",
        "*  constant time ( only one expression, no loop) = O(1)\n",
        "*  for loop = O(n)\n",
        "*  nested for loop = O(n**2)\n",
        "*  while loop = O(n-1) == O(n)\n",
        "\n",
        "### complexity classes in increasing order\n",
        "\n",
        "* constant = O(1)\n",
        "* logarithmic ( binary search) = O(log(n))\n",
        "* linear ( linear search) = O(n)\n",
        "* quadratic = O(n^2)\n",
        "* cubic = O(n^3)\n",
        "* polynomail = O(n^c)\n",
        "* exponential = o(c^2)\n",
        "* (2^n)  <  n!  <  (n^n)\n",
        "\n",
        "\n",
        "\n",
        "---\n",
        "\n",
        "\n"
      ],
      "metadata": {
        "id": "PX0T3GVEIxxy"
      }
    },
    {
      "cell_type": "markdown",
      "source": [
        "# **Recurrence Relation**\n",
        "\n",
        "whenever function calls itself directly or indirectly\n",
        "\n",
        "1. Substitution method == subsitute\n",
        "\n",
        "2. Recursive Tree approach ( have more than one recursive term) == divide into left & right part\n",
        "3. Masters theorem\n",
        "\n",
        "\n",
        "\n",
        "---\n",
        "\n"
      ],
      "metadata": {
        "id": "TLU5H1_hkGba"
      }
    },
    {
      "cell_type": "markdown",
      "source": [
        "# **Array Data Structures**\n",
        "\n",
        "*   memory allocation in form of index\n",
        "*   contiguous manner of storage of element\n",
        "*   searching algorithms\n",
        "\n",
        "\n",
        "\n",
        "1.   Static Array == define the size of array prior\n",
        "\n",
        "2.   Dynamic Array == no need to define the size of an array ( copy & insertion of new elements) in python we uses this array (list)\n",
        "\n",
        "\n",
        "### list\n",
        "\n",
        "*   lst.insert(index, element)\n",
        "*   lst.remove(element)\n",
        "*   lst.count(element)\n",
        "*   lst.pop(element)\n",
        "*   lst.sort()\n",
        "\n",
        "\n",
        "### memory address\n",
        "\n",
        "* arr(i) = Base address + (i - lower bound of an element) * size of an element\n",
        "\n",
        "\n",
        "\n",
        "\n",
        "\n",
        "\n"
      ],
      "metadata": {
        "id": "wXgr30hH8tiu"
      }
    },
    {
      "cell_type": "code",
      "source": [
        "# Linear search algorithms\n",
        "\n",
        "l = [1,2,3,4,5,6,7]\n",
        "for i in range(len(l)):\n",
        "  if l[i] == 5:\n",
        "    print(i)\n",
        "    break\n",
        "\n",
        "else:\n",
        "  print(\"not found\")\n",
        "\n",
        "# space complex == O(1)\n",
        "# O(1)  == element is present at initial indexes\n",
        "# O(n)  == element is present almost at the last index"
      ],
      "metadata": {
        "colab": {
          "base_uri": "https://localhost:8080/"
        },
        "id": "WMT4TYj28zmM",
        "outputId": "cff907cc-efcc-4c26-ef8e-34b3c516647e"
      },
      "execution_count": null,
      "outputs": [
        {
          "output_type": "stream",
          "name": "stdout",
          "text": [
            "4\n"
          ]
        }
      ]
    },
    {
      "cell_type": "code",
      "source": [
        "# Binary Search Algorithms  === divide and conquer\n",
        "\n",
        "def binarySearch(lst, x, i, j):\n",
        "  while i <= j:\n",
        "    mid = (i+j) // 2\n",
        "    if lst[mid] == x:\n",
        "      return mid\n",
        "    elif lst[mid] < x:\n",
        "      #i = mid + 1\n",
        "      return binarySearch(lst, x, mid+1, j)\n",
        "    else:\n",
        "      #j = mid - 1\n",
        "      return binarySearch(lst, x, i, mid-1)\n",
        "  else:\n",
        "    return -1\n",
        "\n",
        "lst = [2,5,6,10,14,55,67,34,65]\n",
        "x= 10\n",
        "i = 0\n",
        "j = len(lst)-1\n",
        "\n",
        "result = binarySearch(lst, x, i, j)\n",
        "print(result)\n",
        "\n",
        "\n",
        "# space complex == O(1)\n",
        "# O(log(n))  == element is present almost at the last index\n"
      ],
      "metadata": {
        "colab": {
          "base_uri": "https://localhost:8080/"
        },
        "id": "5zqCP6ROH4Av",
        "outputId": "16ed0935-5870-4801-88af-6b38855ab92a"
      },
      "execution_count": null,
      "outputs": [
        {
          "output_type": "stream",
          "name": "stdout",
          "text": [
            "3\n"
          ]
        }
      ]
    },
    {
      "cell_type": "code",
      "source": [
        "#search in 2D array\n",
        "\n",
        "def searchSortedMatrix(matrix, target):\n",
        "  rows = len(matrix)\n",
        "  cols = len(matrix[0])\n",
        "  if rows == 0:\n",
        "    return False\n",
        "  left = 0\n",
        "  right = rows * cols - 1\n",
        "  while left <= right:\n",
        "    mid = (left + right) // 2\n",
        "    mid_element = matrix[mid // cols][mid % cols]\n",
        "    if mid_element == target:\n",
        "      return True\n",
        "    elif mid_element < target:\n",
        "      left = mid + 1\n",
        "    else:\n",
        "      right = mid - 1\n",
        "  return False\n",
        "\n",
        "matrix = [[1,3,5,7],[10,11,16,20],[23,30,34,60]]\n",
        "target = 80\n",
        "print(searchSortedMatrix(matrix, target))\n",
        "\n",
        "\n",
        "# time complexity === O(log2(n))"
      ],
      "metadata": {
        "id": "c-CMe2G-J6Ji",
        "colab": {
          "base_uri": "https://localhost:8080/"
        },
        "outputId": "1e49a780-7487-43ec-dd97-6e9fba383232"
      },
      "execution_count": 3,
      "outputs": [
        {
          "output_type": "stream",
          "name": "stdout",
          "text": [
            "False\n"
          ]
        }
      ]
    },
    {
      "cell_type": "markdown",
      "source": [
        "# **Ternary Search**\n",
        "\n",
        "*   mid1 = l + (r-l) // 3\n",
        "*   mid2 = r -(r-l) // 3\n",
        "\n",
        "r == right side extreme index\n",
        "\n",
        "l = left side extreme index\n",
        "\n",
        "time complexity === O(log3(n))\n",
        "\n"
      ],
      "metadata": {
        "id": "mArh0lsLXPFS"
      }
    },
    {
      "cell_type": "code",
      "source": [
        "def ternarySearch(l,r,x,arr):\n",
        "  while l <= r:\n",
        "    mid1 = l + (r-l) // 3\n",
        "    mid2 = r - (r-l) // 3\n",
        "    if arr[mid1] == x:\n",
        "      return mid1\n",
        "    elif arr[mid2] == x:\n",
        "      return mid2\n",
        "    elif x < arr[mid1]:\n",
        "      return ternarySearch(l, mid1-1, x, arr)\n",
        "    elif x > arr[mid2]:\n",
        "      return ternarySearch(mid2+1, r, x, arr)\n",
        "    else:\n",
        "      return ternarySearch(mid1+1, mid2-1, x, arr)\n",
        "  return -1\n",
        "\n",
        "arr = [1,2,3,4,5,6,7,8,9,10]\n",
        "l = 0\n",
        "r = len(arr)-1\n",
        "x = 20\n",
        "print(ternarySearch(l,r,x,arr))"
      ],
      "metadata": {
        "colab": {
          "base_uri": "https://localhost:8080/"
        },
        "id": "1OAt5A_BW3qo",
        "outputId": "ba8b046a-dc8b-48d3-ea32-b32cdacfd713"
      },
      "execution_count": 8,
      "outputs": [
        {
          "output_type": "stream",
          "name": "stdout",
          "text": [
            "-1\n"
          ]
        }
      ]
    },
    {
      "cell_type": "markdown",
      "source": [
        "# **Sorting Algorithms**\n",
        "\n",
        "1.   **comparison based** == selection, bubble, insertion, quick, merge, heap\n",
        "\n",
        "2.   **non-comparison based** == count, radix, bucket sort\n",
        "\n"
      ],
      "metadata": {
        "id": "05FEUxH1bA8H"
      }
    },
    {
      "cell_type": "markdown",
      "source": [
        "**Stable & Unstable Algorithms**\n",
        "\n",
        "1.  Stable = Relative order should be maintained after sorting algorithms\n",
        "\n",
        "2.   Unstable = quick, selection, heap sort\n",
        "\n",
        "3. Inplace === not using any extra space to sort an array\n",
        "\n",
        "4. Outplace === using an extra space to sort the array  (merge sort)\n"
      ],
      "metadata": {
        "id": "yNBc-K5TbBP1"
      }
    },
    {
      "cell_type": "markdown",
      "source": [
        "**1. Bubble Sort**  == swaping ( 70 == 20) & compare\n",
        "\n",
        "*   no. of passes === ( n-1 ) pass\n",
        "*   comparison === O(n^2)  ( sum of natural num)\n",
        "*   swaps === worst case --> O(n^2)\n",
        "*   Time ==== O(n^2)\n",
        "*   space === O(1)"
      ],
      "metadata": {
        "id": "m5kUASkWChMN"
      }
    },
    {
      "cell_type": "code",
      "source": [
        "def bubbleSort(l):\n",
        "  for i in range(len(l)):\n",
        "    for j in range(len(l)-i-1):\n",
        "      if l[j] > l[j+1]:\n",
        "        l[j], l[j+1] = l[j+1], l[j]\n",
        "  return l\n",
        "\n",
        "l = [70,20,50,30,90,5,15]\n",
        "result = bubbleSort(l)\n",
        "print(result)"
      ],
      "metadata": {
        "colab": {
          "base_uri": "https://localhost:8080/"
        },
        "id": "VGzkHhNFafFN",
        "outputId": "74d47d5b-82bf-41a5-ada2-f143ad17ed1a"
      },
      "execution_count": 5,
      "outputs": [
        {
          "output_type": "stream",
          "name": "stdout",
          "text": [
            "[5, 15, 20, 30, 50, 70, 90]\n"
          ]
        }
      ]
    },
    {
      "cell_type": "markdown",
      "source": [
        "**2. Selection Sort** == in every pass, only one swap is required\n",
        "\n",
        "assign variable \"min\" == 0 as index value then check element with the help of variable ( compare & swap )\n",
        "\n",
        "*   no. of passes === ( n-1 ) pass\n",
        "*   comparison === O(n^2)\n",
        "*   swaps === worst case --> (n-1)swap / O(n)\n",
        "*   Time ==== O(n^2)   ( swap + comparison )\n",
        "*   space === O(1)\n",
        "\n",
        "\n",
        "\n",
        "\n",
        "\n",
        "\n",
        "\n"
      ],
      "metadata": {
        "id": "c7lxF5EnG-_v"
      }
    },
    {
      "cell_type": "code",
      "source": [
        "def selectionSort(arr):\n",
        "  for i in range(len(arr)):\n",
        "    min_index = i\n",
        "    for j in range(i+1, len(arr)):\n",
        "      if arr[j] < arr[min_index]:\n",
        "        min_index = j\n",
        "    arr[i], arr[min_index] = arr[min_index], arr[i]\n",
        "  return arr\n",
        "\n",
        "arr = [70,20,50,30,90,5,15]\n",
        "res = selectionSort(arr)\n",
        "print(res)"
      ],
      "metadata": {
        "colab": {
          "base_uri": "https://localhost:8080/"
        },
        "id": "wP0UfUcEFLIb",
        "outputId": "9664fff1-9388-4a0e-da62-b723f5085a24"
      },
      "execution_count": 7,
      "outputs": [
        {
          "output_type": "stream",
          "name": "stdout",
          "text": [
            "[5, 15, 20, 30, 50, 70, 90]\n"
          ]
        }
      ]
    },
    {
      "cell_type": "markdown",
      "source": [
        "**3. Insertion Sort** == compare with pre- element and then swap ( 95 == 100)\n",
        "\n",
        "eg --> deck of card\n",
        "\n",
        "*   Ascending order ( almost sorted)  ---> comparison == O(n-1) / swap == 0\n",
        "*  Descending order --->\n",
        "swap == O(n^2)  \n",
        "\n",
        "\n",
        "\n",
        "\n",
        "\n",
        "\n",
        "\n"
      ],
      "metadata": {
        "id": "vj6sTpaZKlG8"
      }
    },
    {
      "cell_type": "code",
      "source": [
        "def insertionSort(arr):\n",
        "  for i in range(1, len(arr)):\n",
        "    key = arr[i]\n",
        "    j = i-1\n",
        "    while j >= 0 and key < arr[j]:\n",
        "      arr[j+1] = arr[j]\n",
        "      j -= 1\n",
        "    arr[j+1] = key\n",
        "  return arr\n",
        "\n",
        "arr = [70,20,50,30,90,5,15]\n",
        "res = insertionSort(arr)\n",
        "print(res)"
      ],
      "metadata": {
        "colab": {
          "base_uri": "https://localhost:8080/"
        },
        "id": "QWzrAYtdMnvI",
        "outputId": "1a75bda8-dc8c-44a0-916e-83b31676da67"
      },
      "execution_count": 9,
      "outputs": [
        {
          "output_type": "stream",
          "name": "stdout",
          "text": [
            "[5, 15, 20, 30, 50, 70, 90]\n"
          ]
        }
      ]
    },
    {
      "cell_type": "code",
      "source": [],
      "metadata": {
        "id": "grnzLGx9NAir"
      },
      "execution_count": null,
      "outputs": []
    }
  ]
}