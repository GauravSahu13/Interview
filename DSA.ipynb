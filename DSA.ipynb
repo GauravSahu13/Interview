{
  "nbformat": 4,
  "nbformat_minor": 0,
  "metadata": {
    "colab": {
      "provenance": [],
      "authorship_tag": "ABX9TyNRq29gxI2TcUsYVqfHD3WR",
      "include_colab_link": true
    },
    "kernelspec": {
      "name": "python3",
      "display_name": "Python 3"
    },
    "language_info": {
      "name": "python"
    }
  },
  "cells": [
    {
      "cell_type": "markdown",
      "metadata": {
        "id": "view-in-github",
        "colab_type": "text"
      },
      "source": [
        "<a href=\"https://colab.research.google.com/github/GauravSahu13/Interview/blob/main/DSA.ipynb\" target=\"_parent\"><img src=\"https://colab.research.google.com/assets/colab-badge.svg\" alt=\"Open In Colab\"/></a>"
      ]
    },
    {
      "cell_type": "code",
      "execution_count": null,
      "metadata": {
        "id": "zwrmghsrGV19"
      },
      "outputs": [],
      "source": []
    },
    {
      "cell_type": "markdown",
      "source": [
        "# **DSA**\n",
        "---\n",
        "1.   Array  ----> Searching Frequently (Random access)                \n",
        "2.   Linked list  ----> Inersion / Deletion Frequently\n",
        "3.   Stack    ----> LIFO (Undo ctrl+z)\n",
        "\n",
        "4.   Queue ----> FIFO (Ticket counter)\n",
        "5.   Hashing ---->  Efficient Data Retrieval (Fast Retrieval)\n",
        "\n",
        "6.   Graph ----> Network Representation (ola/uber maps)\n",
        "\n",
        "7.   Tree ----> Hierarchical Data Representation (e-commerce product)\n",
        "8.   Tables ----> Structured Data Storage\n",
        "\n",
        "9.   Sets ----> Unique Elements Storage\n",
        "---\n",
        "\n",
        "# **Algorithms**\n",
        "\n",
        "combination of sequences of finite number of steps to solve any particular problem\n",
        "\n",
        "### Property:\n",
        "1.   Terminate after finite amt of time\n",
        "2.   Produce atleast one output\n",
        "3.   independent of language\n",
        "4.   unambiguous / deterministic code (output should be same)\n",
        "\n",
        "\n",
        "### Steps:\n",
        "1. Problem definition (constraints, parameters, test cases)\n",
        "\n",
        "2. Design algo ( divide & conquer, DP)\n",
        "3. Draw flow chart\n",
        "4. Testing\n",
        "5. Implementation\n",
        "6. Analysis ( space & Time complexity)\n",
        "\n",
        "\n",
        "---\n",
        "\n",
        "\n",
        "\n",
        "\n"
      ],
      "metadata": {
        "id": "CjQL5EU-GYEr"
      }
    },
    {
      "cell_type": "markdown",
      "source": [
        "# **Analysis of Algoritms**\n",
        "\n",
        "### Steps\n",
        "1.   **Apostiary** ---> dependent on hardware & language /  provide  Exact answers / different answers\n",
        "2.   **Apriori** ( we are using this) ---> Independent on hardware & language /  provide  Approaximate answers / similar answers\n",
        "\n",
        "### Asymptotic Notation\n",
        "1.   **Big O** ---> Worst Case\n",
        "*   f(n) = O(g(n))\n",
        "*   f(n) <= c.g(n)\n",
        "*   n >= n0 / c > 0 / n0 > 1\n",
        "\n",
        "2.   **Omega** ---> Best case\n",
        "*   f(n) = omega(g(n))\n",
        "*   f(n) >= c.g(n)\n",
        "*   n >= n0 / c > 0 / n0 > 1\n",
        "\n",
        "3.   **Tetha** --- > average case\n",
        "*   f(n) = Tetha(g(n))\n",
        "*   f(n) <= c1.g(n)\n",
        "*   f(n) >= c2.g(n)\n",
        "*   n >= n0 / c > 0 / n0 > 1\n",
        "\n",
        "\n",
        "**c ==== always constant**\n",
        "\n",
        "\n",
        "### Apriori Analysis\n",
        "\n",
        "*  constant time ( only one expression, no loop) = O(1)\n",
        "*  for loop = O(n)\n",
        "*  nested for loop = O(n**2)\n",
        "*  while loop = O(n-1) == O(n)\n",
        "\n",
        "### complexity classes in increasing order\n",
        "\n",
        "* constant = O(1)\n",
        "* logarithmic ( binary search) = O(log(n))\n",
        "* linear ( linear search) = O(n)\n",
        "* quadratic = O(n^2)\n",
        "* cubic = O(n^3)\n",
        "* polynomail = O(n^c)\n",
        "* exponential = o(c^2)\n",
        "* (2^n)  <  n!  <  (n^n)\n",
        "\n",
        "\n",
        "\n",
        "---\n",
        "\n",
        "\n"
      ],
      "metadata": {
        "id": "PX0T3GVEIxxy"
      }
    },
    {
      "cell_type": "markdown",
      "source": [
        "# **Recurrence Relation**\n",
        "\n",
        "whenever function calls itself directly or indirectly\n",
        "\n",
        "1. Substitution method == subsitute\n",
        "\n",
        "2. Recursive Tree approach ( have more than one recursive term) == divide into left & right part\n",
        "3. Masters theorem\n",
        "\n",
        "\n",
        "\n",
        "---\n",
        "\n"
      ],
      "metadata": {
        "id": "TLU5H1_hkGba"
      }
    },
    {
      "cell_type": "markdown",
      "source": [
        "# **Array Data Structures**\n",
        "\n",
        "*   memory allocation in form of index\n",
        "*   contiguous manner of storage of element\n",
        "*   searching algorithms\n",
        "\n",
        "\n",
        "\n",
        "1.   Static Array == define the size of array prior\n",
        "\n",
        "2.   Dynamic Array == no need to define the size of an array ( copy & insertion of new elements) in python we uses this array (list)\n",
        "\n",
        "\n",
        "### list\n",
        "\n",
        "*   lst.insert(index, element)\n",
        "*   lst.remove(element)\n",
        "*   lst.count(element)\n",
        "*   lst.pop(element)\n",
        "*   lst.sort()\n",
        "\n",
        "\n",
        "### memory address\n",
        "\n",
        "* arr(i) = Base address + (i - lower bound of an element) * size of an element\n",
        "\n",
        "\n",
        "\n",
        "\n",
        "\n",
        "\n"
      ],
      "metadata": {
        "id": "wXgr30hH8tiu"
      }
    },
    {
      "cell_type": "code",
      "source": [
        "# Linear search algorithms\n",
        "\n",
        "l = [1,2,3,4,5,6,7]\n",
        "for i in range(len(l)):\n",
        "  if l[i] == 5:\n",
        "    print(i)\n",
        "    break\n",
        "\n",
        "else:\n",
        "  print(\"not found\")\n",
        "\n",
        "# space complex == O(1)\n",
        "# O(1)  == element is present at initial indexes\n",
        "# O(n)  == element is present almost at the last index"
      ],
      "metadata": {
        "colab": {
          "base_uri": "https://localhost:8080/"
        },
        "id": "WMT4TYj28zmM",
        "outputId": "cff907cc-efcc-4c26-ef8e-34b3c516647e"
      },
      "execution_count": 2,
      "outputs": [
        {
          "output_type": "stream",
          "name": "stdout",
          "text": [
            "4\n"
          ]
        }
      ]
    },
    {
      "cell_type": "code",
      "source": [
        "# Binary Search Algorithms  === divide and conquer\n",
        "\n",
        "def binarySearch(lst, x, i, j):\n",
        "  while i <= j:\n",
        "    mid = (i+j) // 2\n",
        "    if lst[mid] == x:\n",
        "      return mid\n",
        "    elif lst[mid] < x:\n",
        "      #i = mid + 1\n",
        "      return binarySearch(lst, x, mid+1, j)\n",
        "    else:\n",
        "      #j = mid - 1\n",
        "      return binarySearch(lst, x, i, mid-1)\n",
        "  else:\n",
        "    return -1\n",
        "\n",
        "lst = [2,5,6,10,14,55,67,34,65]\n",
        "x= 10\n",
        "i = 0\n",
        "j = len(lst)-1\n",
        "\n",
        "result = binarySearch(lst, x, i, j)\n",
        "print(result)\n",
        "\n",
        "\n",
        "# space complex == O(1)\n",
        "# O(log(n))  == element is present almost at the last index\n"
      ],
      "metadata": {
        "colab": {
          "base_uri": "https://localhost:8080/"
        },
        "id": "5zqCP6ROH4Av",
        "outputId": "16ed0935-5870-4801-88af-6b38855ab92a"
      },
      "execution_count": 6,
      "outputs": [
        {
          "output_type": "stream",
          "name": "stdout",
          "text": [
            "3\n"
          ]
        }
      ]
    },
    {
      "cell_type": "code",
      "source": [],
      "metadata": {
        "id": "c-CMe2G-J6Ji"
      },
      "execution_count": null,
      "outputs": []
    }
  ]
}